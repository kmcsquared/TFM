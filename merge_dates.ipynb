{
 "cells": [
  {
   "cell_type": "code",
   "execution_count": 4,
   "metadata": {},
   "outputs": [],
   "source": [
    "import pandas as pd\n",
    "\n",
    "def merge_dates(path_of_df_prediction, merge_on='GAME ID'):\n",
    "\n",
    "    # Load game dates (to merge with game ids for time series)\n",
    "    df_game_dates = pd.read_csv('Data/all_game_dates.csv', index_col=0).drop_duplicates().reset_index(drop=True)\n",
    "    df_game_dates['DATE'] = pd.to_datetime(df_game_dates['DATE'])\n",
    "\n",
    "    # Load data onto which dates will be merged\n",
    "    df_to_predict = pd.read_csv(path_of_df_prediction, index_col=0)\n",
    "    df_to_predict = df_to_predict.merge(df_game_dates, on=merge_on).drop_duplicates().reset_index(drop=True)\n",
    "    \n",
    "    # Save with dates\n",
    "    df_to_predict.to_csv(path_of_df_prediction)\n",
    "\n",
    "path_of_df_prediction = 'Data\\Predictions\\Shots\\shots_2_3_per_48.csv'\n",
    "merge_dates(path_of_df_prediction)"
   ]
  },
  {
   "cell_type": "code",
   "execution_count": null,
   "metadata": {},
   "outputs": [],
   "source": []
  }
 ],
 "metadata": {
  "kernelspec": {
   "display_name": "Python 3.7.3 ('base')",
   "language": "python",
   "name": "python3"
  },
  "language_info": {
   "codemirror_mode": {
    "name": "ipython",
    "version": 3
   },
   "file_extension": ".py",
   "mimetype": "text/x-python",
   "name": "python",
   "nbconvert_exporter": "python",
   "pygments_lexer": "ipython3",
   "version": "3.7.3"
  },
  "orig_nbformat": 4,
  "vscode": {
   "interpreter": {
    "hash": "7f5233f17aa47e85ea2360a5db710713dadfa7497b548c8b1e998945382d6d3b"
   }
  }
 },
 "nbformat": 4,
 "nbformat_minor": 2
}
